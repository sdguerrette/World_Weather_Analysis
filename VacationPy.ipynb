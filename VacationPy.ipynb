{
 "cells": [
  {
   "cell_type": "code",
   "execution_count": 1,
   "id": "0daad7d7",
   "metadata": {},
   "outputs": [],
   "source": [
    "import pandas as pd\n",
    "import gmaps\n",
    "import requests\n",
    "\n",
    "from config import gkey"
   ]
  },
  {
   "cell_type": "code",
   "execution_count": 2,
   "id": "373ba625",
   "metadata": {},
   "outputs": [
    {
     "data": {
      "text/plain": [
       "City_ID         int64\n",
       "City           object\n",
       "Country        object\n",
       "Date           object\n",
       "Lat           float64\n",
       "Lng           float64\n",
       "Max Temp      float64\n",
       "Humidity        int64\n",
       "Cloudiness      int64\n",
       "Wind Speed    float64\n",
       "dtype: object"
      ]
     },
     "execution_count": 2,
     "metadata": {},
     "output_type": "execute_result"
    }
   ],
   "source": [
    "#store cities csv into dataframe\n",
    "\n",
    "city_data_df = pd.read_csv('weather_data/cities.csv')\n",
    "city_data_df.dtypes\n"
   ]
  },
  {
   "cell_type": "code",
   "execution_count": 3,
   "id": "fd3cc277",
   "metadata": {},
   "outputs": [],
   "source": [
    "# Configure gmaps to use your Google API key.\n",
    "gmaps.configure(api_key=gkey)"
   ]
  },
  {
   "cell_type": "code",
   "execution_count": 4,
   "id": "db0b52ce",
   "metadata": {},
   "outputs": [],
   "source": [
    "#get the maximum temperature\n",
    "max_temps = city_data_df['Max Temp']\n",
    "temps = []\n",
    "for temp in max_temps:\n",
    "    temps.append(max(temp,0))"
   ]
  },
  {
   "cell_type": "code",
   "execution_count": 10,
   "id": "1711390c",
   "metadata": {},
   "outputs": [
    {
     "data": {
      "application/vnd.jupyter.widget-view+json": {
       "model_id": "2524006f83944402bd4e4a08fa8baa59",
       "version_major": 2,
       "version_minor": 0
      },
      "text/plain": [
       "Figure(layout=FigureLayout(height='420px'))"
      ]
     },
     "metadata": {},
     "output_type": "display_data"
    }
   ],
   "source": [
    "#heatmap of temperature\n",
    "locations = city_data_df[['Lat','Lng']]\n",
    "#get max temperature\n",
    "max_temp = city_data_df['Max Temp']\n",
    "#assign the figure variable\n",
    "fig = gmaps.figure(center = (30.0,31.0), zoom_level=1.4)\n",
    "#assign the heatmap variable\n",
    "heat_layer = gmaps.heatmap_layer(locations, weights=[max(temp, 0) for temp in max_temp], dissipating=False, max_intensity=300, point_radius = 4)\n",
    "#add the heatmap layer\n",
    "fig.add_layer(heat_layer)\n",
    "#call the figure to plot the data\n",
    "fig"
   ]
  },
  {
   "cell_type": "code",
   "execution_count": 11,
   "id": "625919f9",
   "metadata": {},
   "outputs": [
    {
     "data": {
      "application/vnd.jupyter.widget-view+json": {
       "model_id": "9341019c38664829b30cc9d41d7e8fdf",
       "version_major": 2,
       "version_minor": 0
      },
      "text/plain": [
       "Figure(layout=FigureLayout(height='420px'))"
      ]
     },
     "metadata": {},
     "output_type": "display_data"
    }
   ],
   "source": [
    "#heatmap of percent humidity\n",
    "locations = city_data_df[['Lat','Lng']]\n",
    "humidity = city_data_df['Humidity']\n",
    "fig = gmaps.figure(center=(30.0,31.0),zoom_level = 1.4)\n",
    "heat_layer = gmaps.heatmap_layer(locations, weights=humidity, dissipating=False, max_intensity=300, point_radius = 4)\n",
    "\n",
    "fig.add_layer(heat_layer)\n",
    "fig"
   ]
  },
  {
   "cell_type": "code",
   "execution_count": 12,
   "id": "a7fdddff",
   "metadata": {},
   "outputs": [
    {
     "data": {
      "application/vnd.jupyter.widget-view+json": {
       "model_id": "24f9dcd28e434ac69391539b0feaf0f1",
       "version_major": 2,
       "version_minor": 0
      },
      "text/plain": [
       "Figure(layout=FigureLayout(height='420px'))"
      ]
     },
     "metadata": {},
     "output_type": "display_data"
    }
   ],
   "source": [
    "#heatmap of percent cloudiness\n",
    "locations = city_data_df[['Lat','Lng']]\n",
    "clouds = city_data_df['Cloudiness']\n",
    "fig = gmaps.figure(center=(30.0,31.0),zoom_level = 1.4)\n",
    "heat_layer = gmaps.heatmap_layer(locations, weights=clouds, dissipating=False, max_intensity=300, point_radius = 4)\n",
    "\n",
    "fig.add_layer(heat_layer)\n",
    "fig"
   ]
  },
  {
   "cell_type": "code",
   "execution_count": 13,
   "id": "baf718a1",
   "metadata": {},
   "outputs": [
    {
     "data": {
      "application/vnd.jupyter.widget-view+json": {
       "model_id": "2bf715ce3dde41e7b392efc67b3de759",
       "version_major": 2,
       "version_minor": 0
      },
      "text/plain": [
       "Figure(layout=FigureLayout(height='420px'))"
      ]
     },
     "metadata": {},
     "output_type": "display_data"
    }
   ],
   "source": [
    "#heatmap of  wind speed\n",
    "locations = city_data_df[['Lat','Lng']]\n",
    "wind = city_data_df['Wind Speed']\n",
    "fig = gmaps.figure(center=(30.0,31.0),zoom_level = 1.4)\n",
    "heat_layer = gmaps.heatmap_layer(locations, weights=wind, dissipating=False, max_intensity=300, point_radius = 4)\n",
    "\n",
    "fig.add_layer(heat_layer)\n",
    "fig"
   ]
  },
  {
   "cell_type": "code",
   "execution_count": 15,
   "id": "03bfb443",
   "metadata": {},
   "outputs": [
    {
     "name": "stdout",
     "output_type": "stream",
     "text": [
      "What is the minimum temperature you would like for you trip?75\n",
      "What is the maximum temperature you would like for your trip?90\n"
     ]
    }
   ],
   "source": [
    "#ask the customer to add a min and max temp value\n",
    "min_temp = float(input('What is the minimum temperature you would like for you trip?'))\n",
    "max_temp = float(input('What is the maximum temperature you would like for your trip?'))\n"
   ]
  },
  {
   "cell_type": "code",
   "execution_count": 17,
   "id": "6942e0ad",
   "metadata": {},
   "outputs": [
    {
     "data": {
      "text/html": [
       "<div>\n",
       "<style scoped>\n",
       "    .dataframe tbody tr th:only-of-type {\n",
       "        vertical-align: middle;\n",
       "    }\n",
       "\n",
       "    .dataframe tbody tr th {\n",
       "        vertical-align: top;\n",
       "    }\n",
       "\n",
       "    .dataframe thead th {\n",
       "        text-align: right;\n",
       "    }\n",
       "</style>\n",
       "<table border=\"1\" class=\"dataframe\">\n",
       "  <thead>\n",
       "    <tr style=\"text-align: right;\">\n",
       "      <th></th>\n",
       "      <th>City_ID</th>\n",
       "      <th>City</th>\n",
       "      <th>Country</th>\n",
       "      <th>Date</th>\n",
       "      <th>Lat</th>\n",
       "      <th>Lng</th>\n",
       "      <th>Max Temp</th>\n",
       "      <th>Humidity</th>\n",
       "      <th>Cloudiness</th>\n",
       "      <th>Wind Speed</th>\n",
       "    </tr>\n",
       "  </thead>\n",
       "  <tbody>\n",
       "    <tr>\n",
       "      <th>3</th>\n",
       "      <td>3</td>\n",
       "      <td>Rikitea</td>\n",
       "      <td>PF</td>\n",
       "      <td>2022-04-23 18:05:43</td>\n",
       "      <td>-23.1203</td>\n",
       "      <td>-134.9692</td>\n",
       "      <td>75.18</td>\n",
       "      <td>74</td>\n",
       "      <td>100</td>\n",
       "      <td>4.99</td>\n",
       "    </tr>\n",
       "    <tr>\n",
       "      <th>10</th>\n",
       "      <td>10</td>\n",
       "      <td>Puerto Ayora</td>\n",
       "      <td>EC</td>\n",
       "      <td>2022-04-23 18:05:46</td>\n",
       "      <td>-0.7393</td>\n",
       "      <td>-90.3518</td>\n",
       "      <td>76.96</td>\n",
       "      <td>79</td>\n",
       "      <td>34</td>\n",
       "      <td>9.53</td>\n",
       "    </tr>\n",
       "    <tr>\n",
       "      <th>12</th>\n",
       "      <td>12</td>\n",
       "      <td>Bambous Virieux</td>\n",
       "      <td>MU</td>\n",
       "      <td>2022-04-23 18:05:47</td>\n",
       "      <td>-20.3428</td>\n",
       "      <td>57.7575</td>\n",
       "      <td>77.25</td>\n",
       "      <td>69</td>\n",
       "      <td>75</td>\n",
       "      <td>17.27</td>\n",
       "    </tr>\n",
       "    <tr>\n",
       "      <th>14</th>\n",
       "      <td>14</td>\n",
       "      <td>Samarai</td>\n",
       "      <td>PG</td>\n",
       "      <td>2022-04-23 18:05:48</td>\n",
       "      <td>-10.6167</td>\n",
       "      <td>150.6667</td>\n",
       "      <td>81.73</td>\n",
       "      <td>79</td>\n",
       "      <td>58</td>\n",
       "      <td>9.98</td>\n",
       "    </tr>\n",
       "    <tr>\n",
       "      <th>19</th>\n",
       "      <td>19</td>\n",
       "      <td>Faanui</td>\n",
       "      <td>PF</td>\n",
       "      <td>2022-04-23 18:05:49</td>\n",
       "      <td>-16.4833</td>\n",
       "      <td>-151.7500</td>\n",
       "      <td>80.44</td>\n",
       "      <td>74</td>\n",
       "      <td>99</td>\n",
       "      <td>6.64</td>\n",
       "    </tr>\n",
       "    <tr>\n",
       "      <th>23</th>\n",
       "      <td>23</td>\n",
       "      <td>Leisure City</td>\n",
       "      <td>US</td>\n",
       "      <td>2022-04-23 18:05:51</td>\n",
       "      <td>25.4954</td>\n",
       "      <td>-80.4292</td>\n",
       "      <td>84.22</td>\n",
       "      <td>63</td>\n",
       "      <td>20</td>\n",
       "      <td>20.71</td>\n",
       "    </tr>\n",
       "    <tr>\n",
       "      <th>25</th>\n",
       "      <td>25</td>\n",
       "      <td>Victoria</td>\n",
       "      <td>HK</td>\n",
       "      <td>2022-04-23 18:05:47</td>\n",
       "      <td>22.2855</td>\n",
       "      <td>114.1577</td>\n",
       "      <td>78.96</td>\n",
       "      <td>89</td>\n",
       "      <td>9</td>\n",
       "      <td>4.00</td>\n",
       "    </tr>\n",
       "    <tr>\n",
       "      <th>26</th>\n",
       "      <td>26</td>\n",
       "      <td>Actopan</td>\n",
       "      <td>MX</td>\n",
       "      <td>2022-04-23 18:05:52</td>\n",
       "      <td>20.2667</td>\n",
       "      <td>-98.9333</td>\n",
       "      <td>75.38</td>\n",
       "      <td>32</td>\n",
       "      <td>2</td>\n",
       "      <td>5.95</td>\n",
       "    </tr>\n",
       "    <tr>\n",
       "      <th>27</th>\n",
       "      <td>27</td>\n",
       "      <td>Naliya</td>\n",
       "      <td>IN</td>\n",
       "      <td>2022-04-23 18:05:52</td>\n",
       "      <td>23.2667</td>\n",
       "      <td>68.8333</td>\n",
       "      <td>80.80</td>\n",
       "      <td>73</td>\n",
       "      <td>50</td>\n",
       "      <td>9.40</td>\n",
       "    </tr>\n",
       "    <tr>\n",
       "      <th>28</th>\n",
       "      <td>28</td>\n",
       "      <td>Harper</td>\n",
       "      <td>LR</td>\n",
       "      <td>2022-04-23 18:05:53</td>\n",
       "      <td>4.3750</td>\n",
       "      <td>-7.7169</td>\n",
       "      <td>82.45</td>\n",
       "      <td>76</td>\n",
       "      <td>98</td>\n",
       "      <td>7.20</td>\n",
       "    </tr>\n",
       "  </tbody>\n",
       "</table>\n",
       "</div>"
      ],
      "text/plain": [
       "    City_ID             City Country                 Date      Lat       Lng  \\\n",
       "3         3          Rikitea      PF  2022-04-23 18:05:43 -23.1203 -134.9692   \n",
       "10       10     Puerto Ayora      EC  2022-04-23 18:05:46  -0.7393  -90.3518   \n",
       "12       12  Bambous Virieux      MU  2022-04-23 18:05:47 -20.3428   57.7575   \n",
       "14       14          Samarai      PG  2022-04-23 18:05:48 -10.6167  150.6667   \n",
       "19       19           Faanui      PF  2022-04-23 18:05:49 -16.4833 -151.7500   \n",
       "23       23     Leisure City      US  2022-04-23 18:05:51  25.4954  -80.4292   \n",
       "25       25         Victoria      HK  2022-04-23 18:05:47  22.2855  114.1577   \n",
       "26       26          Actopan      MX  2022-04-23 18:05:52  20.2667  -98.9333   \n",
       "27       27           Naliya      IN  2022-04-23 18:05:52  23.2667   68.8333   \n",
       "28       28           Harper      LR  2022-04-23 18:05:53   4.3750   -7.7169   \n",
       "\n",
       "    Max Temp  Humidity  Cloudiness  Wind Speed  \n",
       "3      75.18        74         100        4.99  \n",
       "10     76.96        79          34        9.53  \n",
       "12     77.25        69          75       17.27  \n",
       "14     81.73        79          58        9.98  \n",
       "19     80.44        74          99        6.64  \n",
       "23     84.22        63          20       20.71  \n",
       "25     78.96        89           9        4.00  \n",
       "26     75.38        32           2        5.95  \n",
       "27     80.80        73          50        9.40  \n",
       "28     82.45        76          98        7.20  "
      ]
     },
     "execution_count": 17,
     "metadata": {},
     "output_type": "execute_result"
    }
   ],
   "source": [
    "#filter the dataset to find the cities that fit the criteria\n",
    "preferred_cities_df = city_data_df.loc[(city_data_df['Max Temp']<= max_temp)&\\\n",
    "                                      (city_data_df['Max Temp']>= min_temp)]\n",
    "preferred_cities_df.head(10)"
   ]
  },
  {
   "cell_type": "code",
   "execution_count": 22,
   "id": "13d6e31f",
   "metadata": {},
   "outputs": [
    {
     "data": {
      "text/plain": [
       "City_ID       0\n",
       "City          0\n",
       "Country       0\n",
       "Date          0\n",
       "Lat           0\n",
       "Lng           0\n",
       "Max Temp      0\n",
       "Humidity      0\n",
       "Cloudiness    0\n",
       "Wind Speed    0\n",
       "dtype: int64"
      ]
     },
     "execution_count": 22,
     "metadata": {},
     "output_type": "execute_result"
    }
   ],
   "source": [
    "preferred_cities_df.isnull().sum()"
   ]
  },
  {
   "cell_type": "code",
   "execution_count": 24,
   "id": "aee9e8f1",
   "metadata": {},
   "outputs": [
    {
     "data": {
      "text/html": [
       "<div>\n",
       "<style scoped>\n",
       "    .dataframe tbody tr th:only-of-type {\n",
       "        vertical-align: middle;\n",
       "    }\n",
       "\n",
       "    .dataframe tbody tr th {\n",
       "        vertical-align: top;\n",
       "    }\n",
       "\n",
       "    .dataframe thead th {\n",
       "        text-align: right;\n",
       "    }\n",
       "</style>\n",
       "<table border=\"1\" class=\"dataframe\">\n",
       "  <thead>\n",
       "    <tr style=\"text-align: right;\">\n",
       "      <th></th>\n",
       "      <th>City</th>\n",
       "      <th>Country</th>\n",
       "      <th>Max Temp</th>\n",
       "      <th>Lat</th>\n",
       "      <th>Lng</th>\n",
       "      <th>Hotel Name</th>\n",
       "    </tr>\n",
       "  </thead>\n",
       "  <tbody>\n",
       "    <tr>\n",
       "      <th>3</th>\n",
       "      <td>Rikitea</td>\n",
       "      <td>PF</td>\n",
       "      <td>75.18</td>\n",
       "      <td>-23.1203</td>\n",
       "      <td>-134.9692</td>\n",
       "      <td></td>\n",
       "    </tr>\n",
       "    <tr>\n",
       "      <th>10</th>\n",
       "      <td>Puerto Ayora</td>\n",
       "      <td>EC</td>\n",
       "      <td>76.96</td>\n",
       "      <td>-0.7393</td>\n",
       "      <td>-90.3518</td>\n",
       "      <td></td>\n",
       "    </tr>\n",
       "    <tr>\n",
       "      <th>12</th>\n",
       "      <td>Bambous Virieux</td>\n",
       "      <td>MU</td>\n",
       "      <td>77.25</td>\n",
       "      <td>-20.3428</td>\n",
       "      <td>57.7575</td>\n",
       "      <td></td>\n",
       "    </tr>\n",
       "    <tr>\n",
       "      <th>14</th>\n",
       "      <td>Samarai</td>\n",
       "      <td>PG</td>\n",
       "      <td>81.73</td>\n",
       "      <td>-10.6167</td>\n",
       "      <td>150.6667</td>\n",
       "      <td></td>\n",
       "    </tr>\n",
       "    <tr>\n",
       "      <th>19</th>\n",
       "      <td>Faanui</td>\n",
       "      <td>PF</td>\n",
       "      <td>80.44</td>\n",
       "      <td>-16.4833</td>\n",
       "      <td>-151.7500</td>\n",
       "      <td></td>\n",
       "    </tr>\n",
       "    <tr>\n",
       "      <th>23</th>\n",
       "      <td>Leisure City</td>\n",
       "      <td>US</td>\n",
       "      <td>84.22</td>\n",
       "      <td>25.4954</td>\n",
       "      <td>-80.4292</td>\n",
       "      <td></td>\n",
       "    </tr>\n",
       "    <tr>\n",
       "      <th>25</th>\n",
       "      <td>Victoria</td>\n",
       "      <td>HK</td>\n",
       "      <td>78.96</td>\n",
       "      <td>22.2855</td>\n",
       "      <td>114.1577</td>\n",
       "      <td></td>\n",
       "    </tr>\n",
       "    <tr>\n",
       "      <th>26</th>\n",
       "      <td>Actopan</td>\n",
       "      <td>MX</td>\n",
       "      <td>75.38</td>\n",
       "      <td>20.2667</td>\n",
       "      <td>-98.9333</td>\n",
       "      <td></td>\n",
       "    </tr>\n",
       "    <tr>\n",
       "      <th>27</th>\n",
       "      <td>Naliya</td>\n",
       "      <td>IN</td>\n",
       "      <td>80.80</td>\n",
       "      <td>23.2667</td>\n",
       "      <td>68.8333</td>\n",
       "      <td></td>\n",
       "    </tr>\n",
       "    <tr>\n",
       "      <th>28</th>\n",
       "      <td>Harper</td>\n",
       "      <td>LR</td>\n",
       "      <td>82.45</td>\n",
       "      <td>4.3750</td>\n",
       "      <td>-7.7169</td>\n",
       "      <td></td>\n",
       "    </tr>\n",
       "  </tbody>\n",
       "</table>\n",
       "</div>"
      ],
      "text/plain": [
       "               City Country  Max Temp      Lat       Lng Hotel Name\n",
       "3           Rikitea      PF     75.18 -23.1203 -134.9692           \n",
       "10     Puerto Ayora      EC     76.96  -0.7393  -90.3518           \n",
       "12  Bambous Virieux      MU     77.25 -20.3428   57.7575           \n",
       "14          Samarai      PG     81.73 -10.6167  150.6667           \n",
       "19           Faanui      PF     80.44 -16.4833 -151.7500           \n",
       "23     Leisure City      US     84.22  25.4954  -80.4292           \n",
       "25         Victoria      HK     78.96  22.2855  114.1577           \n",
       "26          Actopan      MX     75.38  20.2667  -98.9333           \n",
       "27           Naliya      IN     80.80  23.2667   68.8333           \n",
       "28           Harper      LR     82.45   4.3750   -7.7169           "
      ]
     },
     "execution_count": 24,
     "metadata": {},
     "output_type": "execute_result"
    }
   ],
   "source": [
    "#make copy of preferred cities dataframe\n",
    "hotel_df = preferred_cities_df[['City','Country','Max Temp','Lat','Lng']].copy()\n",
    "hotel_df['Hotel Name'] = ''\n",
    "hotel_df.head(10)\n"
   ]
  },
  {
   "cell_type": "code",
   "execution_count": 26,
   "id": "a02b9eed",
   "metadata": {},
   "outputs": [
    {
     "name": "stdout",
     "output_type": "stream",
     "text": [
      "Hotel not found...skipping.\n",
      "Hotel not found...skipping.\n",
      "Hotel not found...skipping.\n",
      "Hotel not found...skipping.\n",
      "Hotel not found...skipping.\n",
      "Hotel not found...skipping.\n",
      "Hotel not found...skipping.\n",
      "Hotel not found...skipping.\n",
      "Hotel not found...skipping.\n",
      "Hotel not found...skipping.\n",
      "Hotel not found...skipping.\n",
      "Hotel not found...skipping.\n",
      "Hotel not found...skipping.\n",
      "Hotel not found...skipping.\n",
      "Hotel not found...skipping.\n"
     ]
    }
   ],
   "source": [
    "#set parameters to search for a hotel\n",
    "params = {'radius':5000,\n",
    "          'type':'lodging',\n",
    "          'key':gkey\n",
    "}\n",
    "for index, row in hotel_df.iterrows():\n",
    "    #get the lat and lng\n",
    "    lat = row['Lat']\n",
    "    lng = row['Lng']\n",
    "    \n",
    "    #add the lat and lng to location key for the params dictionary\n",
    "    params['location']=f'{lat},{lng}'\n",
    "    \n",
    "    #use the search term : 'lodging' and our lat and lng\n",
    "    base_url = 'https://maps.googleapis.com/maps/api/place/nearbysearch/json'\n",
    "    #make requests and get the JSON data\n",
    "    hotels = requests.get(base_url, params=params).json()\n",
    "    #grab the first hotel from the results and store the name\n",
    "    try:\n",
    "        hotel_df.loc[index, 'Hotel Name'] = hotels['results'][0]['name']\n",
    "    except (IndexError):\n",
    "        print('Hotel not found...skipping.')\n",
    "\n",
    "\n"
   ]
  },
  {
   "cell_type": "code",
   "execution_count": 27,
   "id": "a6713157",
   "metadata": {},
   "outputs": [
    {
     "data": {
      "text/html": [
       "<div>\n",
       "<style scoped>\n",
       "    .dataframe tbody tr th:only-of-type {\n",
       "        vertical-align: middle;\n",
       "    }\n",
       "\n",
       "    .dataframe tbody tr th {\n",
       "        vertical-align: top;\n",
       "    }\n",
       "\n",
       "    .dataframe thead th {\n",
       "        text-align: right;\n",
       "    }\n",
       "</style>\n",
       "<table border=\"1\" class=\"dataframe\">\n",
       "  <thead>\n",
       "    <tr style=\"text-align: right;\">\n",
       "      <th></th>\n",
       "      <th>City</th>\n",
       "      <th>Country</th>\n",
       "      <th>Max Temp</th>\n",
       "      <th>Lat</th>\n",
       "      <th>Lng</th>\n",
       "      <th>Hotel Name</th>\n",
       "    </tr>\n",
       "  </thead>\n",
       "  <tbody>\n",
       "    <tr>\n",
       "      <th>3</th>\n",
       "      <td>Rikitea</td>\n",
       "      <td>PF</td>\n",
       "      <td>75.18</td>\n",
       "      <td>-23.1203</td>\n",
       "      <td>-134.9692</td>\n",
       "      <td>People ThankYou</td>\n",
       "    </tr>\n",
       "    <tr>\n",
       "      <th>10</th>\n",
       "      <td>Puerto Ayora</td>\n",
       "      <td>EC</td>\n",
       "      <td>76.96</td>\n",
       "      <td>-0.7393</td>\n",
       "      <td>-90.3518</td>\n",
       "      <td>Finch Bay Galapagos Hotel</td>\n",
       "    </tr>\n",
       "    <tr>\n",
       "      <th>12</th>\n",
       "      <td>Bambous Virieux</td>\n",
       "      <td>MU</td>\n",
       "      <td>77.25</td>\n",
       "      <td>-20.3428</td>\n",
       "      <td>57.7575</td>\n",
       "      <td>Casa Tia Villa</td>\n",
       "    </tr>\n",
       "    <tr>\n",
       "      <th>14</th>\n",
       "      <td>Samarai</td>\n",
       "      <td>PG</td>\n",
       "      <td>81.73</td>\n",
       "      <td>-10.6167</td>\n",
       "      <td>150.6667</td>\n",
       "      <td>Nuli Sapi</td>\n",
       "    </tr>\n",
       "    <tr>\n",
       "      <th>19</th>\n",
       "      <td>Faanui</td>\n",
       "      <td>PF</td>\n",
       "      <td>80.44</td>\n",
       "      <td>-16.4833</td>\n",
       "      <td>-151.7500</td>\n",
       "      <td>Bora-Bora Pearl Beach Resort &amp; Spa</td>\n",
       "    </tr>\n",
       "  </tbody>\n",
       "</table>\n",
       "</div>"
      ],
      "text/plain": [
       "               City Country  Max Temp      Lat       Lng  \\\n",
       "3           Rikitea      PF     75.18 -23.1203 -134.9692   \n",
       "10     Puerto Ayora      EC     76.96  -0.7393  -90.3518   \n",
       "12  Bambous Virieux      MU     77.25 -20.3428   57.7575   \n",
       "14          Samarai      PG     81.73 -10.6167  150.6667   \n",
       "19           Faanui      PF     80.44 -16.4833 -151.7500   \n",
       "\n",
       "                            Hotel Name  \n",
       "3                      People ThankYou  \n",
       "10           Finch Bay Galapagos Hotel  \n",
       "12                      Casa Tia Villa  \n",
       "14                           Nuli Sapi  \n",
       "19  Bora-Bora Pearl Beach Resort & Spa  "
      ]
     },
     "execution_count": 27,
     "metadata": {},
     "output_type": "execute_result"
    }
   ],
   "source": [
    "hotel_df.head()"
   ]
  },
  {
   "cell_type": "code",
   "execution_count": 31,
   "id": "44d623db",
   "metadata": {},
   "outputs": [
    {
     "data": {
      "application/vnd.jupyter.widget-view+json": {
       "model_id": "b532913e8bcd4473a0cfb00437aba6e0",
       "version_major": 2,
       "version_minor": 0
      },
      "text/plain": [
       "Figure(layout=FigureLayout(height='420px'))"
      ]
     },
     "metadata": {},
     "output_type": "display_data"
    }
   ],
   "source": [
    "#add a heatmap of termparature for the vacation spots.\n",
    "locations= hotel_df[['Lat','Lng']]\n",
    "max_temp = hotel_df['Max Temp']\n",
    "fig = gmaps.figure(center=(30.0,31.0),zoom_level=1.4)\n",
    "heat_layer = gmaps.heatmap_layer(locations,weights=max_temp, dissipating=False, max_intensity=300, point_radius=4)\n",
    "marker_layer = gmaps.marker_layer(locations, info_box_content = hotel_info)\n",
    "\n",
    "fig.add_layer(marker_layer)\n",
    "fig.add_layer(heat_layer)\n",
    "fig"
   ]
  },
  {
   "cell_type": "code",
   "execution_count": 30,
   "id": "6f05afa5",
   "metadata": {},
   "outputs": [],
   "source": [
    "info_box_template = \"\"\"\n",
    "<dl>\n",
    "<dt>Hotel Name</dt><dd>{Hotel Name}</dd>\n",
    "<dt>City</dt><dd>{City}</dd>\n",
    "<dt>Country</dt><dd>{Country}</dd>\n",
    "<dt>Max Temp</dt><dd>{Max Temp} °F</dd>\n",
    "</dl>\n",
    "\"\"\"\n",
    "# Store the DataFrame Row.\n",
    "hotel_info = [info_box_template.format(**row) for index, row in hotel_df.iterrows()]"
   ]
  },
  {
   "cell_type": "code",
   "execution_count": null,
   "id": "6f5f9ee2",
   "metadata": {},
   "outputs": [],
   "source": []
  }
 ],
 "metadata": {
  "kernelspec": {
   "display_name": "Python 3 (ipykernel)",
   "language": "python",
   "name": "python3"
  },
  "language_info": {
   "codemirror_mode": {
    "name": "ipython",
    "version": 3
   },
   "file_extension": ".py",
   "mimetype": "text/x-python",
   "name": "python",
   "nbconvert_exporter": "python",
   "pygments_lexer": "ipython3",
   "version": "3.7.11"
  }
 },
 "nbformat": 4,
 "nbformat_minor": 5
}
